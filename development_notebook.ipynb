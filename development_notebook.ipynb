{
 "cells": [
  {
   "cell_type": "code",
   "execution_count": 6,
   "metadata": {},
   "outputs": [],
   "source": [
    "%load_ext autoreload\n",
    "%autoreload 2\n",
    "import matplotlib.pyplot as plt\n",
    "import numpy as np\n",
    "import resampy\n",
    "from utilities import upsampling\n",
    "from filter_design import rrcos_pulseshaping_freq\n",
    "try:\n",
    "    import cupy as cp\n",
    "    import cusignal\n",
    "    is_cuda_avaliable = True\n",
    "except ImportError:\n",
    "    is_cuda_avaliable = False\n",
    "    \n",
    "class Signal(object):\n",
    "    \n",
    "    def __init__(self,qam_order,baudrate,sps,sps_in_fiber,symbol_length,pol_number):\n",
    "        '''\n",
    "            qam_order\n",
    "            message 2d-array\n",
    "            all 2d-array\n",
    "        '''\n",
    "        self.qam_order = qam_order\n",
    "        self.message = None\n",
    "        self.baudrate = baudrate\n",
    "        self.sps = sps\n",
    "        self.sps_in_fiber = sps_in_fiber\n",
    "        self.ds = None\n",
    "        self.ds_in_fiber = None\n",
    "        self.symbol = None\n",
    "        self.freq = None \n",
    "        self.symbol_length = symbol_length\n",
    "        self.pol_number = pol_number\n",
    "        self.__constl = None\n",
    "        self.is_on_cuda = False\n",
    "        \n",
    "        \n",
    "    @property\n",
    "    def fs_in_fiber(self):\n",
    "        return self.sps_in_fiber * self.baudrate\n",
    "    \n",
    "    def prepare(self):\n",
    "        raise NotImplementedError\n",
    "        \n",
    "    def __getitem__(self,value):\n",
    "        return self.ds_in_fiber[value]\n",
    "    \n",
    "    def __setitem__(self,key,value):\n",
    "        self.ds_in_fiber[key] = value\n",
    "        \n",
    "    @property\n",
    "    def shape(self):\n",
    "        return self.ds_in_fiber.shape\n",
    "    \n",
    "    def psd(self):\n",
    "        if self.is_on_cuda:\n",
    "            self.cpu()\n",
    "            plt.psd(self.ds_in_fiber[0],NFFT=16384,Fs = self.fs_in_fiber,scale_by_freq=True)\n",
    "            self.cuda()\n",
    "   \n",
    "    @property\n",
    "    def constl(self):\n",
    "        return self.__constl\n",
    "    \n",
    "    @constl.setter\n",
    "    def constl(self,value):\n",
    "        self.__constl = value\n",
    "    \n",
    "    def scatterplot(self,sps):\n",
    "        if self.is_on_cuda:\n",
    "            self.ds_in_fiber = cp.asnumpy(self.ds_in_fiber)\n",
    "        fignumber = self.shape[0]\n",
    "        fig,axes = plt.subplots(nrows = 1,ncols = fignumber)\n",
    "        for ith,ax in enumerate(axes):\n",
    "            ax.scatter(self.ds_in_fiber[ith,::sps].real,self.ds_in_fiber[ith,::sps].imag,s=1,c='b')\n",
    "            ax.set_aspect('equal', 'box')\n",
    "\n",
    "            ax.set_xlim([self.ds_in_fiber[ith,::sps].real.min()-0.1,self.ds_in_fiber[ith,::sps].real.max()+0.1])\n",
    "            ax.set_ylim([self.ds_in_fiber[ith,::sps].imag.min()-0.1,self.ds_in_fiber[ith,::sps].imag.max()+0.1])\n",
    "\n",
    "        plt.tight_layout()\n",
    "        plt.show()\n",
    "        if self.is_on_cuda:\n",
    "            self.ds_in_fiber = cp.array(self.ds_in_fiber)\n",
    "            \n",
    "    @property\n",
    "    def samples(self):\n",
    "        return self.ds_in_fiber\n",
    "    @samples.setter\n",
    "    def samples(self,value):\n",
    "        self.ds_in_fiber = value\n",
    "    @property\n",
    "    def fs(self):\n",
    "        return self.baudrate * self.sps\n",
    "    \n",
    "    def cuda(self):\n",
    "        if not is_cuda_avaliable:\n",
    "            return\n",
    "        \n",
    "        else:\n",
    "            self.ds_in_fiber = cp.array(self.ds_in_fiber)\n",
    "            self.ds = cp.array(self.ds)\n",
    "            self.is_on_cuda = True\n",
    "        \n",
    "        return self\n",
    "        \n",
    "    def cpu(self):\n",
    "        if not self.is_on_cuda:\n",
    "            return\n",
    "        \n",
    "        else:\n",
    "            \n",
    "            self.ds_in_fiber = cp.asnumpy(self.ds_in_fiber)\n",
    "            self.ds = cp.asnumpy(self.ds_in_fiber)\n",
    "            self.is_on_cuda = False\n",
    "        return self\n",
    "        \n",
    "        "
   ]
  },
  {
   "cell_type": "code",
   "execution_count": 7,
   "metadata": {},
   "outputs": [],
   "source": [
    "class QamSignal(Signal):\n",
    "    def __init__(self,qamorder,baudrate,sps,sps_in_fiber,symbol_length,pol_number):\n",
    "        super().__init__(qamorder,baudrate,sps,sps_in_fiber,symbol_length,pol_number)\n",
    "        self.message = np.random.randint(low=0,high=self.qam_order,size=((self.pol_number,self.symbol_length)))\n",
    "        self.map()\n",
    "\n",
    "    def map(self):\n",
    "        import joblib\n",
    "        constl = joblib.load('constl')[self.qam_order][0]\n",
    "        self.symbol = np.zeros_like(self.message,dtype=np.complex)\n",
    "        for row_index,sym in enumerate(self.symbol):\n",
    "            for i in range(self.qam_order):\n",
    "                sym[self.message[row_index] == i] = constl[i]\n",
    "        \n",
    "        self.constl = constl\n",
    "        \n",
    "    def prepare(self,roll_off,is_cuda=False):\n",
    "        \n",
    "        self.ds = upsampling(self.symbol,self.sps)\n",
    "        self.ds_in_fiber = np.zeros((self.pol_number,self.symbol.shape[1]*self.sps_in_fiber),dtype = self.symbol.dtype)\n",
    "        if is_cuda:\n",
    "            self.cuda()\n",
    "            \n",
    "        for index,row in enumerate(self.ds):\n",
    "            row[:] = rrcos_pulseshaping_freq(row,self.fs,1/self.baudrate,roll_off,self.is_on_cuda)\n",
    "            if not self.is_on_cuda:\n",
    "                self.ds_in_fiber[index] = resampy.resample(row,self.sps,self.sps_in_fiber,filter='kaiser_fast') \n",
    "            else:\n",
    "                self.ds_in_fiber[index] = cusignal.resample_poly(row,self.sps_in_fiber/self.sps,1,axis=-1)\n",
    "            \n",
    "    @property \n",
    "    def time_vector(self):\n",
    "        return 1/self.fs_in_fiber * np.arange(self.ds_in_fiber.shape[1])\n",
    "\n",
    "\n",
    " "
   ]
  },
  {
   "cell_type": "code",
   "execution_count": 178,
   "metadata": {},
   "outputs": [
    {
     "data": {
      "image/png": "[encoded data removed]",
      "text/plain": [
       "<Figure size 432x288 with 2 Axes>"
      ]
     },
     "metadata": {
      "needs_background": "light"
     },
     "output_type": "display_data"
    }
   ],
   "source": [
    "signal = QamSignal(4,35e9,2,4,65536,2)\n",
    "signal.prepare(0.2,True)\n",
    "from receiver_dsp import matched_filter\n",
    "\n",
    "signal.scatterplot(4)\n"
   ]
  },
  {
   "cell_type": "code",
   "execution_count": 10,
   "metadata": {},
   "outputs": [],
   "source": [
    "\n",
    "class Laser(object):\n",
    "    \n",
    "    def __init__(self,linewidth,is_phase_noise,freq):\n",
    "        '''\n",
    "            linewidth:hz\n",
    "            freq:hz\n",
    "        '''\n",
    "        self.linewidth = linewidth\n",
    "        self.is_phase_noise = is_phase_noise\n",
    "        self.freq = freq\n",
    "        self.is_on_cuda = False\n",
    "        \n",
    "    def phase_noise(self,signal):\n",
    "        \n",
    "        if self.is_on_cuda:\n",
    "            import cupy as np\n",
    "        else:\n",
    "            import numpy as np\n",
    "    \n",
    "        var = 2*np.pi*self.linewidth/signal.fs_in_fiber\n",
    "        f = np.random.normal(scale=np.sqrt(var), size=signal[:].shape)\n",
    "        for row in f:\n",
    "            row[0] = (np.random.rand(1)*2*np.pi - np.pi)[0]\n",
    "        return np.cumsum(f, axis=1)\n",
    "    \n",
    "    def prop(self,signal):\n",
    "        signal.freq = self.freq\n",
    "        self.is_on_cuda = signal.is_on_cuda\n",
    "        \n",
    "        if self.is_on_cuda:\n",
    "            import cupy as np\n",
    "        else:\n",
    "            import numpy as np\n",
    "            \n",
    "        if self.is_phase_noise:\n",
    "            self.phase_noise = self.phase_noise(signal)\n",
    "            signal[:] = signal[:] * np.exp(1j*self.phase_noise)\n",
    "        return signal\n",
    "    \n",
    "    def plot_phase_noise(self):\n",
    "        \n",
    "        if self.is_phase_noise:\n",
    "            if self.is_on_cuda:\n",
    "                import cupy as cp\n",
    "                self.phase_noise = cp.asnumpy(self.phase_noise)\n",
    "            \n",
    "            fig,axes = plt.subplots(figsize = (10,2),nrows = 1,ncols = self.phase_noise.shape[0])\n",
    "            for ith,ax in enumerate(axes):\n",
    "                ax.plot(self.phase_noise[ith],c='b',lw=2)\n",
    "\n",
    "                  \n",
    "        plt.tight_layout()\n",
    "        plt.show()"
   ]
  },
  {
   "cell_type": "code",
   "execution_count": 180,
   "metadata": {},
   "outputs": [
    {
     "data": {
      "image/png": "[encoded data removed]",
      "text/plain": [
       "<Figure size 720x144 with 2 Axes>"
      ]
     },
     "metadata": {
      "needs_background": "light"
     },
     "output_type": "display_data"
    }
   ],
   "source": [
    "laser = Laser(100e3,True,193.1e12)\n",
    "signal = laser.prop(signal)\n",
    "laser.plot_phase_noise()"
   ]
  },
  {
   "cell_type": "code",
   "execution_count": 4,
   "metadata": {},
   "outputs": [],
   "source": [
    "class WSS(object):\n",
    "\n",
    "    def __init__(self, frequency_offset, bandwidth, oft):\n",
    "\n",
    "        '''\n",
    "\n",
    "        :param frequency_offset: value away from center [GHz]\n",
    "        :param bandwidth: 3-db Bandwidth [Ghz]\n",
    "        :param oft:GHZ\n",
    "        '''\n",
    "        self.frequency_offset = frequency_offset/1e9\n",
    "        self.bandwidth = bandwidth/1e9\n",
    "        self.oft = oft/1e9\n",
    "        self.H = None\n",
    "        self.freq = None\n",
    "        self.is_on_cuda = False\n",
    "        \n",
    "    def prop(self, signal):\n",
    "\n",
    "        sample = signal[:]\n",
    "        self.is_on_cuda = signal.is_on_cuda\n",
    "        \n",
    "        if self.is_on_cuda:\n",
    "            import cupy as np\n",
    "            \n",
    "        else:\n",
    "            import numpy as np\n",
    "\n",
    "        freq = np.fft.fftfreq(len(sample[0, :]), 1 / signal.fs_in_fiber)\n",
    "        freq = freq / 1e9\n",
    "        \n",
    "        self.freq = freq\n",
    "        self.__get_transfer_function(freq)\n",
    "\n",
    "        for i in range(sample.shape[0]):\n",
    "            sample[i, :] = np.fft.ifft(np.fft.fft(sample[i, :]) * self.H)\n",
    "\n",
    "        signal[:] = sample\n",
    "        return signal\n",
    "\n",
    "    \n",
    "    def __get_transfer_function(self, freq_vector):\n",
    "        if self.is_on_cuda:\n",
    "            import cupy as np\n",
    "            from cupyx.scipy.special import erf\n",
    "        else:\n",
    "            import numpy as np\n",
    "            from scipy.special import erf\n",
    "            \n",
    "        delta = self.oft / 2 / np.sqrt(2 * np.log(2))\n",
    "\n",
    "        H = 0.5 * delta * np.sqrt(2 * np.pi) * (\n",
    "                erf((self.bandwidth / 2 - (freq_vector - self.frequency_offset)) / np.sqrt(2) / delta) - erf(\n",
    "            (-self.bandwidth / 2 - (freq_vector - self.frequency_offset)) / np.sqrt(2) / delta))\n",
    "\n",
    "        H = H / np.max(H)\n",
    "\n",
    "        self.H = H\n",
    "        \n",
    "\n",
    "    def plot_transfer_function(self, freq=None):\n",
    "        import matplotlib.pyplot as plt\n",
    "        if self.H is None:\n",
    "            self.__get_transfer_function(freq)\n",
    "            self.freq = freq\n",
    "        if self.is_on_cuda:\n",
    "            import cupy as cp\n",
    "            self.H = cp.asnumpy(self.H)\n",
    "            self.freq = cp.asnumpy(self.freq)\n",
    "        \n",
    "        index = self.H > 0.001\n",
    "        plt.figure(figsize=(20, 6))\n",
    "        plt.subplot(121)\n",
    "        plt.scatter(self.freq[index], np.abs(self.H[index]), color='b', marker='o')\n",
    "        plt.xlabel('GHz')\n",
    "        plt.ylabel('Amplitude')\n",
    "        plt.title(\"without log\")\n",
    "        plt.subplot(122)\n",
    "        plt.scatter(self.freq[index], 10 * np.log10(np.abs(self.H[index])), color='b', marker='o')\n",
    "        plt.xlabel('GHz')\n",
    "        plt.ylabel('Amplitude')\n",
    "        plt.title(\"with log\")\n",
    "        plt.show()\n",
    "        if self.is_on_cuda:\n",
    "            self.H = cp.array(self.H)\n",
    "            self.freq = cp.array(self.freq)\n",
    "        \n",
    "            \n",
    "\n",
    "    def __str__(self):\n",
    "\n",
    "        string = f'the center_frequency is {0 + self.frequency_offset}[GHZ] \\t\\n' \\\n",
    "            f'the 3-db bandwidth is {self.bandwidth}[GHz]\\t\\n' \\\n",
    "            f'the otf is {self.oft} [GHz] \\t\\n'\n",
    "        return string\n",
    "\n",
    "    def __repr__(self):\n",
    "        return self.__str__()\n",
    "\n",
    "    "
   ]
  },
  {
   "cell_type": "code",
   "execution_count": 14,
   "metadata": {},
   "outputs": [],
   "source": [
    "import pdb\n",
    "class WdmSignal(object):\n",
    "    def __init__(self,symbols,wdm_samples,freq,is_on_cuda,fs_in_fiber):\n",
    "        self.symbols = symbols\n",
    "        self.wdm_samples = wdm_samples\n",
    "        \n",
    "        self.relative_freq = freq\n",
    "        self.is_on_cuda = is_on_cuda\n",
    "        self.fs_in_fiber = fs_in_fiber\n",
    "        self.fs = fs_in_fiber\n",
    "        \n",
    "        self.wdm_comb_config = None\n",
    "        self.baudrates = None\n",
    "        self.qam_orders = None\n",
    "        \n",
    "        if self.is_on_cuda:\n",
    "            import cupy as cp\n",
    "            self.fs_in_fiber = cp.asnumpy(self.fs_in_fiber)\n",
    "            self.wdm_comb_config = cp.asnumpy(self.wdm_comb_config)\n",
    "            \n",
    "            self.relative_freq = cp.asnumpy(self.relative_freq)\n",
    "            \n",
    "    def cuda(self):\n",
    "        if self.is_on_cuda:\n",
    "            return self\n",
    "        \n",
    "        else:\n",
    "            try:\n",
    "                import cupy as cp\n",
    "            except ImportError:\n",
    "                return self\n",
    "            \n",
    "            self.wdm_samples = cp.array(self.wdm_samples)\n",
    "            self.is_on_cuda = True\n",
    "            \n",
    "        return self\n",
    "    \n",
    "    def cpu(self):\n",
    "        if not self.is_on_cuda:\n",
    "            return self\n",
    "        else:\n",
    "            import cupy as cp\n",
    "            self.wdm_samples = cp.asnumpy(self.wdm_samples)\n",
    "            self.fs_in_fiber = cp.asnumpy(self.fs_in_fiber)\n",
    "            self.is_on_cuda = False\n",
    "        return self\n",
    "    \n",
    "        \n",
    "    def __getitem__(self,value):\n",
    "        return self.wdm_samples[value]\n",
    "    \n",
    "    def __setitem__(self,key,value):\n",
    "        self.wdm_samples[key] = value\n",
    "        \n",
    "    def psd(self):\n",
    "        if self.is_on_cuda:\n",
    "            self.cpu()\n",
    "\n",
    "            plt.psd(self[0],NFFT=16384,Fs = self.fs_in_fiber,window=np.hamming(16384))\n",
    "            plt.show()\n",
    "            self.cuda()\n",
    "        else:\n",
    "            plt.psd(self[0],NFFT=16384,Fs = self.fs_in_fiber,window=np.hamming(16384))\n",
    "\n",
    "        \n",
    "    @property\n",
    "    def shape(self):\n",
    "        return self.wdm_samples.shape\n",
    "    \n",
    "    \n",
    "    \n",
    "    @property\n",
    "    def length(self):\n",
    "        if self.is_on_cuda:\n",
    "            import cupy as np\n",
    "        else:\n",
    "            import numpy as np\n",
    "        return len(np.atleast_2d(self.wdm_samples)[0])\n",
    "        \n",
    "class Mux(object):\n",
    "    \n",
    "    \n",
    "    @staticmethod\n",
    "    def mux_signal(signals,relative_freq=None,wdm_comb_config = None):\n",
    "        if signals[0].is_on_cuda:\n",
    "            import cupy as np\n",
    "        else:\n",
    "            import numpy as np\n",
    "            \n",
    "        freqs = np.array([signal.freq for signal in signals])\n",
    "        \n",
    "        fs = np.array([signal.fs_in_fiber for signal in signals])\n",
    "        \n",
    "        if not np.all(np.diff(fs)==0):\n",
    "            print(np.diff(fs))\n",
    "            raise Exception('fs_in_fiber of the signal must be the same')\n",
    "        \n",
    "        \n",
    "        length = np.array([signal.shape[1] for signal in signals])\n",
    "        \n",
    "        if relative_freq is None:\n",
    "            relative_freq = np.array(freqs) - (np.max(freqs)+np.min(freqs))/2   \n",
    "            wdm_comb_config = np.arange(len(signals))\n",
    "        else:\n",
    "            assert wdm_comb_config is not None\n",
    "            \n",
    "        max_length = np.max(length)\n",
    "        df = fs[0]/max_length\n",
    "                \n",
    "        wdm_samples = 0\n",
    "        \n",
    "        \n",
    "        signal_samples = np.zeros((len(signals)))\n",
    "        \n",
    "        for idx,signal in enumerate(signals):\n",
    "            freq_samples = np.fft.fft(signal[:],n=max_length,axis=-1)\n",
    "            yidong_dianshu = relative_freq[idx]/df\n",
    "            yidong_dianshu = np.ceil(yidong_dianshu)\n",
    "            yidong_dianshu = np.int(yidong_dianshu)\n",
    "            freq_samples = np.roll(freq_samples,yidong_dianshu,axis=-1)\n",
    "           \n",
    "            wdm_samples += freq_samples\n",
    "        symbols =[signal.symbol for signal in signals]\n",
    "        wdm_signal = WdmSignal(symbols,np.fft.ifft(wdm_samples,axis=-1),relative_freq,signals[0].is_on_cuda,fs_in_fiber = fs[0])\n",
    "        wdm_signal.wdm_comb_config = wdm_comb_config\n",
    "        wdm_signal.baudrates =[signal.baudrate for signal in signals]\n",
    "        wdm_signal.qam_orders = [signal.qam_order for signal in signals]\n",
    "        return wdm_signal\n",
    "\n",
    "\n",
    "import dataclasses\n",
    "from typing import Union\n",
    "\n",
    "# FOR RECEIVER SIGNAL\n",
    "class DummySignal:\n",
    "    def __init__(self,samples,baudrate,qam_order,symbol,is_on_cuda,fs_in_fiber):\n",
    "        self.samples = samples\n",
    "        self.baudrate = baudrate\n",
    "        self.qam_order = qam_order\n",
    "        self.symbol = symbol\n",
    "        self.is_on_cuda = is_on_cuda\n",
    "        \n",
    "        self.fs_in_fiber = fs_in_fiber\n",
    "        \n",
    "        \n",
    "        self.sps = None\n",
    "        if self.is_on_cuda:\n",
    "            import cupy as cp\n",
    "            self.fs_in_fiber = cp.asnumpy(self.fs_in_fiber)\n",
    "            \n",
    "    @property\n",
    "    def fs(self):\n",
    "        assert self.sps is not None\n",
    "        return self.sps * self.baudrate\n",
    "        \n",
    "    def cpu(self):\n",
    "        if not self.is_on_cuda:\n",
    "            return \n",
    "        else:\n",
    "            self.samples = cp.asnumpy(self.samples)\n",
    "            self.is_on_cuda = False\n",
    "    \n",
    "    def cuda(self):\n",
    "        if self.is_on_cuda:\n",
    "            return\n",
    "        else:\n",
    "            self.samples = cp.array(self.samples)\n",
    "            self.is_on_cuda = True\n",
    "    \n",
    "    def __getitem__(self,key):\n",
    "        return self.samples[key]\n",
    "    \n",
    "    def psd(self):\n",
    "        if self.is_on_cuda:\n",
    "            self.cpu()\n",
    "            plt.psd(self[0],NFFT=16384,window=np.hamming(16384))\n",
    "            plt.show()\n",
    "            self.cuda()\n",
    "        else:\n",
    "            plt.psd(self[0],NFFT=16384,window=np.hamming(16384))\n",
    "            plt.show()\n",
    "\n",
    "    @property\n",
    "    def shape(self):\n",
    "        return self.samples.shape\n",
    "    \n",
    "    def scatterplot(self,sps):\n",
    "        if self.is_on_cuda:\n",
    "            self.cpu()\n",
    "            fignumber = self.shape[0]\n",
    "            fig,axes = plt.subplots(nrows = 1,ncols = fignumber)\n",
    "            for ith,ax in enumerate(axes):\n",
    "                ax.scatter(self[ith,::sps].real,self[ith,::sps].imag,s=1,c='b')\n",
    "                ax.set_aspect('equal', 'box')\n",
    "\n",
    "                ax.set_xlim([self[ith,::sps].real.min()-0.1,self[ith,::sps].real.max()+0.1])\n",
    "                ax.set_ylim([self[ith,::sps].imag.min()-0.1,self[ith,::sps].imag.max()+0.1])\n",
    "\n",
    "            plt.tight_layout()\n",
    "            plt.show()\n",
    "            self.cuda()\n",
    "            \n",
    "def ideal_lp(samples,left_freq,right_freq,fs,need_fft = True):\n",
    "    if hasattr(samples,'device'):\n",
    "        import cupy as np\n",
    "        from cupy.fft import fftfreq\n",
    "    else:\n",
    "        import numpy as np\n",
    "        from scipy.fft import fftfreq\n",
    "        \n",
    "    if need_fft:\n",
    "        if hasattr(samples,'device'):\n",
    "            from cupy.fft import fft,ifft\n",
    "        else:\n",
    "            from scipy.fft import fft,ifft\n",
    "        samples = fft(samples)\n",
    "    \n",
    "    freq_vector = fftfreq(len(np.atleast_2d(samples)[0]),1/fs)\n",
    "    \n",
    "    mask1 = freq_vector <= left_freq\n",
    "    \n",
    "    mask2 = freq_vector > right_freq\n",
    "    \n",
    "    for row in samples:\n",
    "        row[mask1] = 0\n",
    "        row[mask2] = 0\n",
    "    \n",
    "    if need_fft:\n",
    "        samples = ifft(samples,axis=-1)\n",
    "    \n",
    "    return samples\n",
    "    \n",
    "    \n",
    "class Demux(object):\n",
    "    \n",
    "    @staticmethod\n",
    "    def demux_signal(wdm_signals,signal_index):\n",
    "        if wdm_signals.is_on_cuda:\n",
    "            import cupy as np\n",
    "        else:\n",
    "            import numpy as np\n",
    "            \n",
    "        index = wdm_signals.wdm_comb_config.tolist().index(signal_index)\n",
    "        relative_freq = wdm_signals.relative_freq[index]\n",
    "        \n",
    "        df = wdm_signals.fs_in_fiber/wdm_signals.length\n",
    "        \n",
    "        freq_samples = np.fft.fft(wdm_signals[:],axis=-1)\n",
    "        yidong_dianshu = relative_freq/df\n",
    "        yidong_dianshu = np.ceil(yidong_dianshu)\n",
    "        yidong_dianshu = np.int(yidong_dianshu)\n",
    "        freq_samples = np.roll(freq_samples,-yidong_dianshu,axis=-1)\n",
    "        \n",
    "        \n",
    "        # ideal low pass filter\n",
    "        left_freq =  -wdm_signals.baudrates[index]/2\n",
    "        right_freq = -left_freq\n",
    "        freq_samples = ideal_lp(freq_samples,left_freq,right_freq,wdm_signals.fs_in_fiber,need_fft = False)\n",
    "        \n",
    "        \n",
    "        symbols = wdm_signals.symbols[index]\n",
    "        baudrate = wdm_signals.baudrates[index]\n",
    "        qam_order = wdm_signals.qam_orders[index]\n",
    "        signal = DummySignal(np.fft.ifft(freq_samples,axis=-1),baudrate,qam_order,symbols,wdm_signals.is_on_cuda,wdm_signals.fs_in_fiber)\n",
    "        return signal\n",
    "\n",
    "    \n",
    "class Resampler(object):\n",
    " \n",
    "    @staticmethod\n",
    "    def prop(signal,new_fs):\n",
    "        \n",
    "        if signal.is_on_cuda:\n",
    "            import cusignal\n",
    "            signal.samples = cusignal.resample_poly(signal[:],1,signal.fs_in_fiber/new_fs,axis=-1)\n",
    "        else:\n",
    "            import resampy\n",
    "            signal.samples = resampy.resample(signal[:],signal.fs_in_fiber,new_fs,axis=-1,filter='kaiser_fast')\n",
    "            \n",
    "        signal.sps = new_fs / signal.baudrate\n",
    "        signal.sps = int(signal.sps)\n",
    "        return signal\n",
    "        \n",
    "    \n",
    "        \n",
    "\n",
    "# #@numba.njit(['complex128[:](complex128[:],int64)'],cache=True)\n",
    "# def mux_core(samples,dianshu):\n",
    "#     return np.roll(samples,dianshu)\n"
   ]
  },
  {
   "cell_type": "code",
   "execution_count": 13,
   "metadata": {},
   "outputs": [
    {
     "name": "stderr",
     "output_type": "stream",
     "text": [
      "100%|██████████████████████████████████████████████████████████████████████████████████| 15/15 [00:00<00:00, 18.36it/s]\n"
     ]
    },
    {
     "ename": "NameError",
     "evalue": "name 'center_freq' is not defined",
     "output_type": "error",
     "traceback": [
      "\u001b[1;31m---------------------------------------------------------------------------\u001b[0m",
      "\u001b[1;31mNameError\u001b[0m                                 Traceback (most recent call last)",
      "\u001b[1;32m<ipython-input-13-fb895a077367>\u001b[0m in \u001b[0;36m<module>\u001b[1;34m\u001b[0m\n\u001b[0;32m     11\u001b[0m     \u001b[0msignal\u001b[0m \u001b[1;33m=\u001b[0m \u001b[0mlaser\u001b[0m\u001b[1;33m.\u001b[0m\u001b[0mprop\u001b[0m\u001b[1;33m(\u001b[0m\u001b[0msignal\u001b[0m\u001b[1;33m)\u001b[0m\u001b[1;33m\u001b[0m\u001b[1;33m\u001b[0m\u001b[0m\n\u001b[0;32m     12\u001b[0m \u001b[1;33m\u001b[0m\u001b[0m\n\u001b[1;32m---> 13\u001b[1;33m \u001b[0mrelative_freq\u001b[0m \u001b[1;33m=\u001b[0m \u001b[0mnp\u001b[0m\u001b[1;33m.\u001b[0m\u001b[0marray\u001b[0m\u001b[1;33m(\u001b[0m\u001b[1;33m[\u001b[0m\u001b[0msignal\u001b[0m\u001b[1;33m.\u001b[0m\u001b[0mfreq\u001b[0m \u001b[1;33m-\u001b[0m \u001b[0mcenter_freq\u001b[0m \u001b[1;32mfor\u001b[0m \u001b[0msignal\u001b[0m \u001b[1;32min\u001b[0m \u001b[0msignals\u001b[0m \u001b[1;33m]\u001b[0m\u001b[1;33m)\u001b[0m\u001b[1;33m\u001b[0m\u001b[1;33m\u001b[0m\u001b[0m\n\u001b[0m\u001b[0;32m     14\u001b[0m \u001b[0msamples\u001b[0m \u001b[1;33m=\u001b[0m \u001b[0mMux\u001b[0m\u001b[1;33m.\u001b[0m\u001b[0mmux_signal\u001b[0m\u001b[1;33m(\u001b[0m\u001b[0msignals\u001b[0m\u001b[1;33m)\u001b[0m\u001b[1;33m\u001b[0m\u001b[1;33m\u001b[0m\u001b[0m\n\u001b[0;32m     15\u001b[0m \u001b[1;33m\u001b[0m\u001b[0m\n",
      "\u001b[1;32m<ipython-input-13-fb895a077367>\u001b[0m in \u001b[0;36m<listcomp>\u001b[1;34m(.0)\u001b[0m\n\u001b[0;32m     11\u001b[0m     \u001b[0msignal\u001b[0m \u001b[1;33m=\u001b[0m \u001b[0mlaser\u001b[0m\u001b[1;33m.\u001b[0m\u001b[0mprop\u001b[0m\u001b[1;33m(\u001b[0m\u001b[0msignal\u001b[0m\u001b[1;33m)\u001b[0m\u001b[1;33m\u001b[0m\u001b[1;33m\u001b[0m\u001b[0m\n\u001b[0;32m     12\u001b[0m \u001b[1;33m\u001b[0m\u001b[0m\n\u001b[1;32m---> 13\u001b[1;33m \u001b[0mrelative_freq\u001b[0m \u001b[1;33m=\u001b[0m \u001b[0mnp\u001b[0m\u001b[1;33m.\u001b[0m\u001b[0marray\u001b[0m\u001b[1;33m(\u001b[0m\u001b[1;33m[\u001b[0m\u001b[0msignal\u001b[0m\u001b[1;33m.\u001b[0m\u001b[0mfreq\u001b[0m \u001b[1;33m-\u001b[0m \u001b[0mcenter_freq\u001b[0m \u001b[1;32mfor\u001b[0m \u001b[0msignal\u001b[0m \u001b[1;32min\u001b[0m \u001b[0msignals\u001b[0m \u001b[1;33m]\u001b[0m\u001b[1;33m)\u001b[0m\u001b[1;33m\u001b[0m\u001b[1;33m\u001b[0m\u001b[0m\n\u001b[0m\u001b[0;32m     14\u001b[0m \u001b[0msamples\u001b[0m \u001b[1;33m=\u001b[0m \u001b[0mMux\u001b[0m\u001b[1;33m.\u001b[0m\u001b[0mmux_signal\u001b[0m\u001b[1;33m(\u001b[0m\u001b[0msignals\u001b[0m\u001b[1;33m)\u001b[0m\u001b[1;33m\u001b[0m\u001b[1;33m\u001b[0m\u001b[0m\n\u001b[0;32m     15\u001b[0m \u001b[1;33m\u001b[0m\u001b[0m\n",
      "\u001b[1;31mNameError\u001b[0m: name 'center_freq' is not defined"
     ]
    }
   ],
   "source": [
    "import tqdm\n",
    "signals = [QamSignal(4,35e9,2,44,65536,2) for _ in range(15)]\n",
    "for index in tqdm.tqdm(range(15)):\n",
    "    signals[index].prepare(0.2,True)\n",
    "    \n",
    "lasers = [Laser(10e5,False,193.1e12 + i*50e9) for i in range(15)]\n",
    "# lasers[0].freq = 193.1e12\n",
    "# lasers[1].freq = 193.1e12 + 14*50e9\n",
    "# center_freq = (193.1e12 + 193.1e12 + 15*50e9)/2\n",
    "for laser,signal in zip(lasers,signals):\n",
    "    signal = laser.prop(signal)\n",
    "\n",
    "relative_freq = np.array([signal.freq - center_freq for signal in signals ])\n",
    "samples = Mux.mux_signal(signals)\n",
    "\n",
    "signal = Demux.demux_signal(samples,14)\n",
    "signal = Resampler(signal.is_on_cuda).prop(signal,new_fs = signal.baudrate * 2)\n",
    "signal.sps\n"
   ]
  },
  {
   "cell_type": "code",
   "execution_count": 111,
   "metadata": {},
   "outputs": [
    {
     "data": {
      "image/png": "[encoded data removed]",
      "text/plain": [
       "<Figure size 432x288 with 1 Axes>"
      ]
     },
     "metadata": {
      "needs_background": "light"
     },
     "output_type": "display_data"
    }
   ],
   "source": [
    "signal.psd()"
   ]
  },
  {
   "cell_type": "code",
   "execution_count": 62,
   "metadata": {},
   "outputs": [
    {
     "name": "stderr",
     "output_type": "stream",
     "text": [
      "100%|████████████████████████████████████████████████████████████████████████████████████| 2/2 [00:00<00:00, 16.85it/s]\n"
     ]
    }
   ],
   "source": [
    "import tqdm\n",
    "signals = [QamSignal(4,35e9,2,44,65536,2) for _ in range(2)]\n",
    "for index in tqdm.tqdm(range(2)):\n",
    "    signals[index].prepare(0.2,True)\n",
    "    \n",
    "lasers = [Laser(10e5,False,193.1e12 + i*50e9) for i in range(2)]\n",
    "lasers[0].freq = 193.1e12\n",
    "lasers[1].freq = 193.1e12 + 14*50e9\n",
    "center_freq = (193.1e12 + 193.1e12 + 14*50e9)/2\n",
    "for laser,signal in zip(lasers,signals):\n",
    "    signal = laser.prop(signal)\n",
    "\n",
    "relative_freq = np.array([signal.freq - center_freq for signal in signals ])\n",
    "samples = Mux.mux_signal(signals,relative_freq,np.array([1,14]))"
   ]
  },
  {
   "cell_type": "code",
   "execution_count": 63,
   "metadata": {},
   "outputs": [
    {
     "data": {
      "text/plain": [
       "1"
      ]
     },
     "execution_count": 63,
     "metadata": {},
     "output_type": "execute_result"
    }
   ],
   "source": [
    "samples.wdm_comb_config.tolist().index(14)"
   ]
  },
  {
   "cell_type": "code",
   "execution_count": 156,
   "metadata": {},
   "outputs": [],
   "source": [
    "def symbol2bin(symbol, width):\n",
    "    symbol = np.atleast_2d(symbol)[0]\n",
    "    biterror = np.empty((len(symbol),width),dtype = np.bool)\n",
    "    new_symbol = symbol.copy()\n",
    "    new_symbol.shape = -1,1\n",
    "    for i in np.arange(width):\n",
    "        biterror[:,i] = ((new_symbol >> i)&1)[:,0]\n",
    "    \n",
    "    \n",
    "    return biterror\n",
    "\n",
    "\n",
    "def calc_ber(rx_symbols,tx_symbols,qam_order):\n",
    "    nbit = int(np.log2(qam_order))\n",
    "    if 2**nbit <= np.max(rx_symbols) or 2**nbit<=np.max(tx_symbols):\n",
    "        raise Exception(\"Qam order is wrong\")\n",
    "        \n",
    "    rx_symbols = np.atleast_2d(rx_symbols)[0]\n",
    "    tx_symbols = np.atleast_2d(tx_symbols)[0]\n",
    "    mask = rx_symbols != tx_symbols\n",
    "    \n",
    "    \n",
    "    error1 = symbol2bin(rx_symbols[mask],nbit)\n",
    "    error2 = symbol2bin(tx_symbols[mask],nbit)\n",
    "    error_num = np.sum(np.logical_xor(error1,error2))\n",
    "    return error_num/(len(rx_symbols)*nbit)\n",
    "    \n",
    "import numpy as np"
   ]
  },
  {
   "cell_type": "code",
   "execution_count": 157,
   "metadata": {},
   "outputs": [
    {
     "data": {
      "text/plain": [
       "0.49720001220703125"
      ]
     },
     "execution_count": 157,
     "metadata": {},
     "output_type": "execute_result"
    }
   ],
   "source": [
    "tx = np.random.randint(0,15,(1,65536))\n",
    "rx = np.random.randint(0,15,(1,65536))\n",
    "import time\n",
    "now = time.time()\n",
    "calc_ber(rx,tx,16)\n"
   ]
  },
  {
   "cell_type": "code",
   "execution_count": null,
   "metadata": {},
   "outputs": [],
   "source": [
    "#### equalizer"
   ]
  },
  {
   "cell_type": "code",
   "execution_count": 16,
   "metadata": {},
   "outputs": [],
   "source": [
    "### 简单的CMA\n",
    "\n",
    "\n",
    "def _segment_axis(a, length, overlap, mode='cut', append_to_end=0):\n",
    "    \"\"\"\n",
    "        Generate a new array that chops the given array along the given axis into\n",
    "        overlapping frames.\n",
    "\n",
    "        example:\n",
    "        >>> segment_axis(arange(10), 4, 2)\n",
    "        array([[0, 1, 2, 3],\n",
    "               [2, 3, 4, 5],\n",
    "               [4, 5, 6, 7],\n",
    "               [6, 7, 8, 9]])\n",
    "\n",
    "        arguments:\n",
    "        a       The array to segment must be 1d-array\n",
    "        length  The length of each frame\n",
    "        overlap The number of array elements by which the frames should overlap\n",
    "\n",
    "        end     What to do with the last frame, if the array is not evenly\n",
    "                divisible into pieces. Options are:\n",
    "\n",
    "                'cut'   Simply discard the extra values\n",
    "                'pad'   Pad with a constant value\n",
    "\n",
    "        append_to_end:    The value to use for end='pad'\n",
    "\n",
    "        a new array will be returned.\n",
    "\n",
    "    \"\"\"\n",
    "    if hasattr(a,'device'):\n",
    "        import cupy as np\n",
    "    else:\n",
    "        import numpy as np\n",
    "    if a.ndim !=1:\n",
    "        raise Exception(\"Error, input array must be 1d\")\n",
    "    if overlap > length:\n",
    "        raise Exception(\"overlap cannot exceed the whole length\")\n",
    "\n",
    "    stride = length - overlap\n",
    "    row = 1\n",
    "    total_number = length\n",
    "    while True:\n",
    "        total_number = total_number + stride\n",
    "        if total_number > len(a):\n",
    "            break\n",
    "        else:\n",
    "            row = row + 1\n",
    "\n",
    "    # 一共要分成row行\n",
    "    if total_number > len(a):\n",
    "        if mode == 'cut':\n",
    "            b = np.zeros((row, length), dtype=np.complex128)\n",
    "            is_append_to_end = False\n",
    "        else:\n",
    "            b = np.zeros((row + 1, length), dtype=np.complex128)\n",
    "            is_append_to_end = True\n",
    "    else:\n",
    "        b = np.zeros((row, length), dtype=np.complex128)\n",
    "        is_append_to_end = False\n",
    "\n",
    "    index = 0\n",
    "    for i in range(row):\n",
    "        b[i, :] = a[index:index + length]\n",
    "        index = index + stride\n",
    "\n",
    "    if is_append_to_end:\n",
    "        last = a[index:]\n",
    "\n",
    "        b[row, 0:len(last)] = last\n",
    "        b[row, len(last):] = append_to_end\n",
    "\n",
    "    return b\n",
    "\n",
    "\n",
    "import pdb\n",
    "\n",
    "import numpy as np\n",
    "import numba  \n",
    "from numba import complex128,double\n",
    "cma_core_type = \\\n",
    "    [(complex128[:, :], complex128[:, :], complex128[:, :], complex128[:, :], complex128[:, :], complex128[:, :], double)]\n",
    "\n",
    "@numba.njit(cma_core_type, cache=True)\n",
    "def cma_equalize_core(ex, ey, wxx, wyy, wxy, wyx, mu):\n",
    "    # symbols = np.zeros((1,ex.shape[0]),dtype=np.complex128)\n",
    "    symbols = np.zeros((2, ex.shape[0]), dtype=np.complex128)\n",
    "\n",
    "    error_xpol_array = np.zeros((1, ex.shape[0]), dtype=np.float64)\n",
    "    error_ypol_array = np.zeros((1, ex.shape[0]), dtype=np.float64)\n",
    "\n",
    "    for idx in range(len(ex)):\n",
    "        xx = ex[idx][::-1]\n",
    "        yy = ey[idx][::-1]\n",
    "        xout = np.sum(wxx * xx) + np.sum(wxy * yy)\n",
    "        yout = np.sum(wyx * xx) + np.sum(wyy * yy)\n",
    "        symbols[0, idx] = xout\n",
    "        symbols[1, idx] = yout\n",
    "        error_xpol = 1 - np.abs(xout) ** 2\n",
    "        error_ypol = 1 - np.abs(yout) ** 2\n",
    "        error_xpol_array[0, idx] = error_xpol\n",
    "        error_xpol_array[0, idx] = error_ypol\n",
    "        wxx = wxx + mu * error_xpol * xout * np.conj(xx)\n",
    "        wxy = wxy + mu * error_xpol * xout * np.conj(yy)\n",
    "        wyx = wyx + mu * error_ypol * yout * np.conj(xx)\n",
    "        wyy = wyy + mu * error_ypol * yout * np.conj(yy)\n",
    "\n",
    "    return symbols, wxx, wxy, wyx, wyy, error_xpol_array, error_ypol_array\n",
    "\n",
    "class Equalizer(object):\n",
    "    def __init__(self,ntaps,lr,loops):\n",
    "        self.wxx = np.zeros((1,ntaps),dtype = np.complex)\n",
    "        self.wxy = np.zeros((1,ntaps),dtype = np.complex)\n",
    "\n",
    "        self.wyx = np.zeros((1,ntaps),dtype = np.complex)\n",
    "\n",
    "        self.wyy = np.zeros((1,ntaps),dtype = np.complex)\n",
    "\n",
    "        self.wxx[0,ntaps//2] = 1\n",
    "        self.wyy[0,ntaps//2] = 1\n",
    "        \n",
    "        self.ntaps = ntaps\n",
    "        self.lr = lr\n",
    "        self.loops = loops\n",
    "        self.error_xpol_array = None\n",
    "        self.error_ypol_array = None\n",
    "        \n",
    "        self.equalized_symbols = None\n",
    "        \n",
    "    def equalize(self,signal):\n",
    "        \n",
    "        raise NotImplementedError\n",
    "        \n",
    "    def scatterplot(self,sps=1):\n",
    "        import matplotlib.pyplot as plt\n",
    "        fignumber = self.equalized_symbols.shape[0]\n",
    "        fig,axes = plt.subplots(nrows = 1,ncols = fignumber)\n",
    "        for ith,ax in enumerate(axes):\n",
    "            ax.scatter(self.equalized_symbols[ith,::sps].real,self.equalized_symbols[ith,::sps].imag,s=1,c='b')\n",
    "            ax.set_aspect('equal', 'box')\n",
    "\n",
    "            ax.set_xlim([self.equalized_symbols[ith,::sps].real.min()-0.1,self.equalized_symbols[ith,::sps].real.max()+0.1])\n",
    "            ax.set_ylim([self.equalized_symbols[ith,::sps].imag.min()-0.1,self.equalized_symbols[ith,::sps].imag.max()+0.1])\n",
    "\n",
    "        plt.tight_layout()\n",
    "        plt.show()\n",
    "    \n",
    "    def plot_error(self):\n",
    "        fignumber = self.equalized_symbols.shape[0]\n",
    "        fig,axes = plt.subplots(figsize=(8,4),nrows = 1,ncols = fignumber)\n",
    "        for ith,ax in enumerate(axes):\n",
    "            ax.plot(self.error_xpol_array[0],c='b',lw=1)\n",
    "#             ax.set_xlim([self.equalized_symbols[ith,::sps].real.min()-0.1,self.equalized_symbols[ith,::sps].real.max()+0.1])\n",
    "#             ax.set_ylim(0,self.error_xpol_array[0].max())\n",
    "\n",
    "        plt.tight_layout()\n",
    "        plt.show()\n",
    "        \n",
    "    def plot_freq_response(self):\n",
    "        from scipy.fftpack import fft,fftshift\n",
    "        freq_res =  fftshift(fft(self.wxx)),fftshift(fft(self.wxy)),fftshift(fft(self.wyx)),fftshift(fft(self.wyy))\n",
    "        import matplotlib.pyplot as plt\n",
    "        fig,axes = plt.subplots(2,2)\n",
    "        for idx,row in enumerate(axes.flatten()):\n",
    "            row.plot(np.abs(freq_res[idx][0]))\n",
    "            row.set_title(f\"{['wxx','wxy','wyx','wyy'][idx]}\")\n",
    "        plt.tight_layout()\n",
    "        plt.show()\n",
    "        \n",
    "    def freq_response(self):\n",
    "        from scipy.fftpack import fft,fftshift\n",
    "        freq_res =  fftshift(fft(self.wxx)),fftshift(fft(self.wxy)),fftshift(fft(self.wyx)),fftshift(fft(self.wyy))\n",
    "        return freq_res\n",
    "\n",
    "    \n",
    "class CMA(Equalizer):\n",
    "    \n",
    "    \n",
    "    def __init__(self,ntaps,lr,loops=3):\n",
    "        super().__init__(ntaps,lr,loops)\n",
    "       \n",
    "        \n",
    "    \n",
    "    def equalize(self,signal):\n",
    "        signal.cpu()\n",
    "        import numpy as np\n",
    "            \n",
    "        samples_xpol = _segment_axis(signal[0],self.ntaps, self.ntaps-signal.sps)\n",
    "        samples_ypol = _segment_axis(signal[1],self.ntaps, self.ntaps-signal.sps)\n",
    "        \n",
    "        self.error_xpol_array = np.zeros((self.loops,len(samples_xpol)))\n",
    "        self.error_ypol_array = np.zeros((self.loops,len(samples_xpol)))\n",
    "        \n",
    "        for idx in range(self.loops):\n",
    "            symbols, self.wxx, self.wxy, self.wyx, self.wyy, error_xpol_array, error_ypol_array = cma_equalize_core(samples_xpol,\n",
    "                                                                                           samples_ypol,self.wxx,self.wyy,self.wxy,self.wyx,self.lr)\n",
    "            self.error_xpol_array[idx] = np.abs(error_xpol_array[0])**2\n",
    "            self.error_ypol_array[idx] = np.abs(error_ypol_array[0])**2\n",
    "        \n",
    "        self.equalized_symbols = symbols\n",
    "\n",
    "    \n",
    "   \n"
   ]
  },
  {
   "cell_type": "code",
   "execution_count": 17,
   "metadata": {},
   "outputs": [
    {
     "data": {
      "image/png": "[encoded data removed]",
      "text/plain": [
       "<Figure size 432x288 with 2 Axes>"
      ]
     },
     "metadata": {
      "needs_background": "light"
     },
     "output_type": "display_data"
    },
    {
     "data": {
      "image/png": "[encoded data removed]",
      "text/plain": [
       "<Figure size 432x288 with 2 Axes>"
      ]
     },
     "metadata": {
      "needs_background": "light"
     },
     "output_type": "display_data"
    },
    {
     "data": {
      "image/png": "[encoded data removed]",
      "text/plain": [
       "<Figure size 432x288 with 2 Axes>"
      ]
     },
     "metadata": {
      "needs_background": "light"
     },
     "output_type": "display_data"
    },
    {
     "name": "stdout",
     "output_type": "stream",
     "text": [
      "2.3836283683776855\n"
     ]
    }
   ],
   "source": [
    "signal = QamSignal(4,35e9,2,4,65536,2)\n",
    "signal.prepare(0.2,True)\n",
    "from receiver_dsp import matched_filter\n",
    "\n",
    "signal.scatterplot(4)\n",
    "laser = Laser(100e3,True,freq = 193.1e12)\n",
    "signal = laser.prop(signal)\n",
    "\n",
    "signal.scatterplot(4)\n",
    "\n",
    "signal.cpu()\n",
    "\n",
    "# resample\n",
    "\n",
    "Resampler.prop(signal,signal.baudrate * 2)\n",
    "from receiver_dsp import matched_filter\n",
    "signal = matched_filter(signal,0.2)\n",
    "signal[:] = signal[:]/np.sqrt(np.mean(np.abs(signal[:])**2,axis=1,keepdims=True))\n",
    "import time\n",
    "now = time.time()\n",
    "signal.scatterplot(2)\n",
    "\n",
    "\n",
    "cma = CMA(321,0.001,3)\n",
    "cma.equalize(signal)\n",
    "print(time.time()-now)"
   ]
  },
  {
   "cell_type": "code",
   "execution_count": 18,
   "metadata": {},
   "outputs": [
    {
     "data": {
      "image/png": "[encoded data removed]",
      "text/plain": [
       "<Figure size 432x288 with 2 Axes>"
      ]
     },
     "metadata": {
      "needs_background": "light"
     },
     "output_type": "display_data"
    },
    {
     "data": {
      "image/png": "[encoded data removed]",
      "text/plain": [
       "<Figure size 576x288 with 2 Axes>"
      ]
     },
     "metadata": {
      "needs_background": "light"
     },
     "output_type": "display_data"
    },
    {
     "data": {
      "image/png": "[encoded data removed]",
      "text/plain": [
       "<Figure size 432x288 with 4 Axes>"
      ]
     },
     "metadata": {
      "needs_background": "light"
     },
     "output_type": "display_data"
    }
   ],
   "source": [
    "import matplotlib.pyplot as plt\n",
    "cma.scatterplot()\n",
    "cma.plot_error()\n",
    "cma.plot_freq_response()"
   ]
  },
  {
   "cell_type": "code",
   "execution_count": 40,
   "metadata": {},
   "outputs": [],
   "source": [
    "\n",
    "def __segment_axis(a, length, overlap, mode='cut', append_to_end=0):\n",
    "    \"\"\"\n",
    "        Generate a new array that chops the given array along the given axis into\n",
    "        overlapping frames.\n",
    "\n",
    "        example:\n",
    "        >>> segment_axis(arange(10), 4, 2)\n",
    "        array([[0, 1, 2, 3],\n",
    "               [2, 3, 4, 5],\n",
    "               [4, 5, 6, 7],\n",
    "               [6, 7, 8, 9]])\n",
    "\n",
    "        arguments:\n",
    "        a       The array to segment must be 1d-array\n",
    "        length  The length of each frame\n",
    "        overlap The number of array elements by which the frames should overlap\n",
    "\n",
    "        end     What to do with the last frame, if the array is not evenly\n",
    "                divisible into pieces. Options are:\n",
    "\n",
    "                'cut'   Simply discard the extra values\n",
    "                'pad'   Pad with a constant value\n",
    "\n",
    "        append_to_end:    The value to use for end='pad'\n",
    "\n",
    "        a new array will be returned.\n",
    "\n",
    "    \"\"\"\n",
    "    if hasattr(a,'device'):\n",
    "        import cupy as np\n",
    "    else:\n",
    "        import numpy as np\n",
    "    if a.ndim !=1:\n",
    "        raise Exception(\"Error, input array must be 1d\")\n",
    "    if overlap > length:\n",
    "        raise Exception(\"overlap cannot exceed the whole length\")\n",
    "\n",
    "    stride = length - overlap\n",
    "    row = 1\n",
    "    total_number = length\n",
    "    while True:\n",
    "        total_number = total_number + stride\n",
    "        if total_number > len(a):\n",
    "            break\n",
    "        else:\n",
    "            row = row + 1\n",
    "\n",
    "    # 一共要分成row行\n",
    "    if total_number > len(a):\n",
    "        if mode == 'cut':\n",
    "            b = np.zeros((row, length), dtype=np.complex128)\n",
    "            is_append_to_end = False\n",
    "        else:\n",
    "            b = np.zeros((row + 1, length), dtype=np.complex128)\n",
    "            is_append_to_end = True\n",
    "    else:\n",
    "        b = np.zeros((row, length), dtype=np.complex128)\n",
    "        is_append_to_end = False\n",
    "\n",
    "    index = 0\n",
    "    for i in range(row):\n",
    "        b[i, :] = a[index:index + length]\n",
    "        index = index + stride\n",
    "\n",
    "    if is_append_to_end:\n",
    "        last = a[index:]\n",
    "\n",
    "        b[row, 0:len(last)] = last\n",
    "        b[row, len(last):] = append_to_end\n",
    "\n",
    "    return b\n"
   ]
  },
  {
   "cell_type": "code",
   "execution_count": 170,
   "metadata": {},
   "outputs": [
    {
     "data": {
      "text/plain": [
       "array([[0.+0.j, 1.+0.j, 2.+0.j, 3.+0.j],\n",
       "       [2.+0.j, 3.+0.j, 4.+0.j, 5.+0.j]])"
      ]
     },
     "execution_count": 170,
     "metadata": {},
     "output_type": "execute_result"
    }
   ],
   "source": [
    "__segment_axis(cp.array([0,1,2,3,4,5,6]),4,2)"
   ]
  },
  {
   "cell_type": "code",
   "execution_count": 167,
   "metadata": {},
   "outputs": [],
   "source": [
    "import cupy as cp"
   ]
  },
  {
   "cell_type": "code",
   "execution_count": 185,
   "metadata": {},
   "outputs": [
    {
     "data": {
      "text/plain": [
       "1000000.0"
      ]
     },
     "execution_count": 185,
     "metadata": {},
     "output_type": "execute_result"
    }
   ],
   "source": [
    "10e5"
   ]
  },
  {
   "cell_type": "markdown",
   "metadata": {},
   "source": [
    "# 100e3"
   ]
  },
  {
   "cell_type": "code",
   "execution_count": 186,
   "metadata": {},
   "outputs": [
    {
     "data": {
      "text/plain": [
       "100000.0"
      ]
     },
     "execution_count": 186,
     "metadata": {},
     "output_type": "execute_result"
    }
   ],
   "source": [
    "100e3"
   ]
  },
  {
   "cell_type": "code",
   "execution_count": 197,
   "metadata": {},
   "outputs": [
    {
     "data": {
      "text/plain": [
       "(2, 131072)"
      ]
     },
     "execution_count": 197,
     "metadata": {},
     "output_type": "execute_result"
    }
   ],
   "source": [
    "signal.samples.shape"
   ]
  },
  {
   "cell_type": "code",
   "execution_count": 14,
   "metadata": {},
   "outputs": [
    {
     "data": {
      "text/plain": [
       "(2, 65536)"
      ]
     },
     "execution_count": 14,
     "metadata": {},
     "output_type": "execute_result"
    }
   ],
   "source": [
    "np.array(signal.symbol).shape"
   ]
  },
  {
   "cell_type": "code",
   "execution_count": 19,
   "metadata": {},
   "outputs": [
    {
     "ename": "ValueError",
     "evalue": "Unsupported dtype object",
     "output_type": "error",
     "traceback": [
      "\u001b[1;31m---------------------------------------------------------------------------\u001b[0m",
      "\u001b[1;31mValueError\u001b[0m                                Traceback (most recent call last)",
      "\u001b[1;32m<ipython-input-19-c995fdd69fa7>\u001b[0m in \u001b[0;36m<module>\u001b[1;34m\u001b[0m\n\u001b[1;32m----> 1\u001b[1;33m \u001b[0mcp\u001b[0m\u001b[1;33m.\u001b[0m\u001b[0marray\u001b[0m\u001b[1;33m(\u001b[0m\u001b[1;32mNone\u001b[0m\u001b[1;33m)\u001b[0m\u001b[1;33m\u001b[0m\u001b[1;33m\u001b[0m\u001b[0m\n\u001b[0m",
      "\u001b[1;32md:\\Users\\shang\\Anaconda3\\lib\\site-packages\\cupy\\creation\\from_data.py\u001b[0m in \u001b[0;36marray\u001b[1;34m(obj, dtype, copy, order, subok, ndmin)\u001b[0m\n\u001b[0;32m     41\u001b[0m \u001b[1;33m\u001b[0m\u001b[0m\n\u001b[0;32m     42\u001b[0m     \"\"\"\n\u001b[1;32m---> 43\u001b[1;33m     \u001b[1;32mreturn\u001b[0m \u001b[0mcore\u001b[0m\u001b[1;33m.\u001b[0m\u001b[0marray\u001b[0m\u001b[1;33m(\u001b[0m\u001b[0mobj\u001b[0m\u001b[1;33m,\u001b[0m \u001b[0mdtype\u001b[0m\u001b[1;33m,\u001b[0m \u001b[0mcopy\u001b[0m\u001b[1;33m,\u001b[0m \u001b[0morder\u001b[0m\u001b[1;33m,\u001b[0m \u001b[0msubok\u001b[0m\u001b[1;33m,\u001b[0m \u001b[0mndmin\u001b[0m\u001b[1;33m)\u001b[0m\u001b[1;33m\u001b[0m\u001b[1;33m\u001b[0m\u001b[0m\n\u001b[0m\u001b[0;32m     44\u001b[0m \u001b[1;33m\u001b[0m\u001b[0m\n\u001b[0;32m     45\u001b[0m \u001b[1;33m\u001b[0m\u001b[0m\n",
      "\u001b[1;32mcupy\\core\\core.pyx\u001b[0m in \u001b[0;36mcupy.core.core.array\u001b[1;34m()\u001b[0m\n",
      "\u001b[1;32mcupy\\core\\core.pyx\u001b[0m in \u001b[0;36mcupy.core.core.array\u001b[1;34m()\u001b[0m\n",
      "\u001b[1;32mcupy\\core\\core.pyx\u001b[0m in \u001b[0;36mcupy.core.core._send_object_to_gpu\u001b[1;34m()\u001b[0m\n",
      "\u001b[1;31mValueError\u001b[0m: Unsupported dtype object"
     ]
    }
   ],
   "source": [
    "cp.array(None)"
   ]
  },
  {
   "cell_type": "code",
   "execution_count": 115,
   "metadata": {},
   "outputs": [
    {
     "data": {
      "text/plain": [
       "\u001b[1;31mSignature:\u001b[0m \u001b[0mmatched_filter\u001b[0m\u001b[1;33m(\u001b[0m\u001b[0msignal\u001b[0m\u001b[1;33m,\u001b[0m \u001b[0mroll_off\u001b[0m\u001b[1;33m)\u001b[0m\u001b[1;33m\u001b[0m\u001b[1;33m\u001b[0m\u001b[0m\n",
       "\u001b[1;31mDocstring:\u001b[0m <no docstring>\n",
       "\u001b[1;31mSource:\u001b[0m   \n",
       "\u001b[1;32mdef\u001b[0m \u001b[0mmatched_filter\u001b[0m\u001b[1;33m(\u001b[0m\u001b[0msignal\u001b[0m\u001b[1;33m,\u001b[0m\u001b[0mroll_off\u001b[0m\u001b[1;33m)\u001b[0m\u001b[1;33m:\u001b[0m\u001b[1;33m\n",
       "\u001b[0m    \u001b[1;32mif\u001b[0m \u001b[0msignal\u001b[0m\u001b[1;33m.\u001b[0m\u001b[0mis_on_cuda\u001b[0m\u001b[1;33m:\u001b[0m\u001b[1;33m\n",
       "\u001b[0m        \u001b[1;32mimport\u001b[0m \u001b[0mcupy\u001b[0m \u001b[1;32mas\u001b[0m \u001b[0mnp\u001b[0m\u001b[1;33m\n",
       "\u001b[0m    \u001b[1;32melse\u001b[0m\u001b[1;33m:\u001b[0m\u001b[1;33m\n",
       "\u001b[0m        \u001b[1;32mimport\u001b[0m \u001b[0mnumpy\u001b[0m \u001b[1;32mas\u001b[0m \u001b[0mnp\u001b[0m\u001b[1;33m\n",
       "\u001b[0m    \u001b[0msamples\u001b[0m \u001b[1;33m=\u001b[0m \u001b[0mnp\u001b[0m\u001b[1;33m.\u001b[0m\u001b[0mcopy\u001b[0m\u001b[1;33m(\u001b[0m\u001b[0msignal\u001b[0m\u001b[1;33m[\u001b[0m\u001b[1;33m:\u001b[0m\u001b[1;33m]\u001b[0m\u001b[1;33m)\u001b[0m\u001b[1;33m\n",
       "\u001b[0m    \u001b[1;32mfor\u001b[0m \u001b[0mrow\u001b[0m \u001b[1;32min\u001b[0m \u001b[0msamples\u001b[0m\u001b[1;33m:\u001b[0m\u001b[1;33m\n",
       "\u001b[0m        \u001b[0mrow\u001b[0m\u001b[1;33m[\u001b[0m\u001b[1;33m:\u001b[0m\u001b[1;33m]\u001b[0m \u001b[1;33m=\u001b[0m \u001b[0mrrcos_pulseshaping_freq\u001b[0m\u001b[1;33m(\u001b[0m\u001b[0mrow\u001b[0m\u001b[1;33m,\u001b[0m\u001b[0msignal\u001b[0m\u001b[1;33m.\u001b[0m\u001b[0mfs\u001b[0m\u001b[1;33m,\u001b[0m\u001b[1;36m1\u001b[0m\u001b[1;33m/\u001b[0m\u001b[0msignal\u001b[0m\u001b[1;33m.\u001b[0m\u001b[0mbaudrate\u001b[0m\u001b[1;33m,\u001b[0m\u001b[0mroll_off\u001b[0m\u001b[1;33m,\u001b[0m\u001b[0msignal\u001b[0m\u001b[1;33m.\u001b[0m\u001b[0mis_on_cuda\u001b[0m\u001b[1;33m)\u001b[0m\u001b[1;33m\n",
       "\u001b[0m    \u001b[0msignal\u001b[0m\u001b[1;33m[\u001b[0m\u001b[1;33m:\u001b[0m\u001b[1;33m]\u001b[0m \u001b[1;33m=\u001b[0m \u001b[0msamples\u001b[0m\u001b[1;33m\n",
       "\u001b[0m    \u001b[1;32mreturn\u001b[0m \u001b[0msignal\u001b[0m\u001b[1;33m\u001b[0m\u001b[1;33m\u001b[0m\u001b[0m\n",
       "\u001b[1;31mFile:\u001b[0m      c:\\users\\shang\\simulator\\receiver_dsp.py\n",
       "\u001b[1;31mType:\u001b[0m      function\n"
      ]
     },
     "metadata": {},
     "output_type": "display_data"
    }
   ],
   "source": [
    "matched_filter??"
   ]
  },
  {
   "cell_type": "code",
   "execution_count": 191,
   "metadata": {},
   "outputs": [
    {
     "data": {
      "text/plain": [
       "['wxx', 'wxy', 'wyx', 'wyy']"
      ]
     },
     "execution_count": 191,
     "metadata": {},
     "output_type": "execute_result"
    }
   ],
   "source": [
    "['wxx','wxy','wyx','wyy']"
   ]
  },
  {
   "cell_type": "code",
   "execution_count": null,
   "metadata": {},
   "outputs": [],
   "source": [
    "dd\n"
   ]
  }
 ],
 "metadata": {
  "kernelspec": {
   "display_name": "Python 3",
   "language": "python",
   "name": "python3"
  },
  "language_info": {
   "codemirror_mode": {
    "name": "ipython",
    "version": 3
   },
   "file_extension": ".py",
   "mimetype": "text/x-python",
   "name": "python",
   "nbconvert_exporter": "python",
   "pygments_lexer": "ipython3",
   "version": "3.7.4"
  },
  "pycharm": {
   "stem_cell": {
    "cell_type": "raw",
    "source": [],
    "metadata": {
     "collapsed": false
    }
   }
  }
 },
 "nbformat": 4,
 "nbformat_minor": 4
}