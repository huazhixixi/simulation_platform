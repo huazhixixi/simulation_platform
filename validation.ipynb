{
 "cells": [
  {
   "cell_type": "code",
   "execution_count": 8,
   "metadata": {
    "pycharm": {
     "is_executing": false
    }
   },
   "outputs": [],
   "source": [
    "%reload_ext autoreload\n",
    "%autoreload 2\n",
    "from library.signal_define import  QamSignal\n",
    "from library.optics import  Mux,Laser,Edfa\n",
    "from library.channel import NonlinearFiber"
   ]
  },
  {
   "cell_type": "code",
   "execution_count": 9,
   "metadata": {
    "pycharm": {
     "is_executing": false
    }
   },
   "outputs": [],
   "source": [
    "def generate_wdm_signal(nch=3):\n",
    "    lasers = [Laser(0,False,193.45e12 + i*50e9,0) for i in range(3)]\n",
    "    signals = [QamSignal(16,35e9,2,8,65536,2) for _ in range(3)]\n",
    "    \n",
    "    for laser,sig in zip(lasers,signals):\n",
    "        sig = sig.prepare(0.1,True)\n",
    "        sig = laser.prop(sig)\n",
    "    \n",
    "    wdm_signal = Mux.mux_signal(signals)\n",
    "    return wdm_signal"
   ]
  },
  {
   "cell_type": "code",
   "execution_count": 10,
   "metadata": {
    "pycharm": {
     "is_executing": false
    }
   },
   "outputs": [
    {
     "data": {
      "text/plain": "<library.signal_define.WdmSignal at 0x1c24f4b350>"
     },
     "metadata": {},
     "output_type": "execute_result",
     "execution_count": 10
    }
   ],
   "source": [
    " from library.channel import NonlinearFiber\n",
    "wdm_signal = generate_wdm_signal()\n",
    "wdm_signal.cpu()"
   ]
  },
  {
   "cell_type": "code",
   "execution_count": 11,
   "metadata": {
    "pycharm": {
     "is_executing": false
    }
   },
   "outputs": [],
   "source": [
    "fiber = NonlinearFiber(0.2,16.7,80,1550,0,'double')"
   ]
  },
  {
   "cell_type": "code",
   "execution_count": null,
   "metadata": {
    "collapsed": false,
    "pycharm": {
     "name": "#%%\n",
     "is_executing": true
    }
   },
   "outputs": [],
   "source": [
    "fiber.prop(wdm_signal)"
   ]
  },
  {
   "cell_type": "code",
   "execution_count": null,
   "outputs": [],
   "source": [
    "\n"
   ],
   "metadata": {
    "collapsed": false,
    "pycharm": {
     "name": "#%%\n"
    }
   }
  }
 ],
 "metadata": {
  "kernelspec": {
   "name": "python3",
   "language": "python",
   "display_name": "Python 3"
  },
  "language_info": {
   "codemirror_mode": {
    "name": "ipython",
    "version": 2
   },
   "file_extension": ".py",
   "mimetype": "text/x-python",
   "name": "python",
   "nbconvert_exporter": "python",
   "pygments_lexer": "ipython2",
   "version": "3.7.4-final"
  },
  "pycharm": {
   "stem_cell": {
    "cell_type": "raw",
    "source": [],
    "metadata": {
     "collapsed": false
    }
   }
  }
 },
 "nbformat": 4,
 "nbformat_minor": 0
}